{
  "nbformat": 4,
  "nbformat_minor": 0,
  "metadata": {
    "colab": {
      "provenance": [],
      "authorship_tag": "ABX9TyMviG33MmhKlnkCXiE7hIDU",
      "include_colab_link": true
    },
    "kernelspec": {
      "name": "python3",
      "display_name": "Python 3"
    },
    "language_info": {
      "name": "python"
    }
  },
  "cells": [
    {
      "cell_type": "markdown",
      "metadata": {
        "id": "view-in-github",
        "colab_type": "text"
      },
      "source": [
        "<a href=\"https://colab.research.google.com/github/AIWalaBro/Capstone_Project_ML/blob/main/Merge_Files/Merge_files_flat_%26_houses_.ipynb\" target=\"_parent\"><img src=\"https://colab.research.google.com/assets/colab-badge.svg\" alt=\"Open In Colab\"/></a>"
      ]
    },
    {
      "cell_type": "code",
      "source": [
        "import pandas as pd\n",
        "import numpy as np\n"
      ],
      "metadata": {
        "id": "wIKniCpr5kdh"
      },
      "execution_count": 12,
      "outputs": []
    },
    {
      "cell_type": "code",
      "source": [
        "df_flats = pd.read_csv('/content/flats_cleaned.csv')\n",
        "df_house = pd.read_csv('/content/house_cleaned.csv')"
      ],
      "metadata": {
        "id": "VXcKyGnSSXTY"
      },
      "execution_count": 13,
      "outputs": []
    },
    {
      "cell_type": "code",
      "source": [
        "df_flats.shape"
      ],
      "metadata": {
        "colab": {
          "base_uri": "https://localhost:8080/"
        },
        "id": "_iLHY4W7SoYB",
        "outputId": "27fb97da-e06d-4973-f9ff-f26c25738099"
      },
      "execution_count": 14,
      "outputs": [
        {
          "output_type": "execute_result",
          "data": {
            "text/plain": [
              "(2997, 20)"
            ]
          },
          "metadata": {},
          "execution_count": 14
        }
      ]
    },
    {
      "cell_type": "code",
      "source": [
        "df_house.shape"
      ],
      "metadata": {
        "colab": {
          "base_uri": "https://localhost:8080/"
        },
        "id": "Y13kGEH3V9GP",
        "outputId": "185f8e56-04fa-45c2-8d93-148f4776b940"
      },
      "execution_count": 15,
      "outputs": [
        {
          "output_type": "execute_result",
          "data": {
            "text/plain": [
              "(964, 20)"
            ]
          },
          "metadata": {},
          "execution_count": 15
        }
      ]
    },
    {
      "cell_type": "code",
      "source": [
        "df_flats.isnull().sum()"
      ],
      "metadata": {
        "id": "taMo-BorV_9P",
        "colab": {
          "base_uri": "https://localhost:8080/"
        },
        "outputId": "a7120d40-efc5-4c67-b529-56fdf139f83b"
      },
      "execution_count": 16,
      "outputs": [
        {
          "output_type": "execute_result",
          "data": {
            "text/plain": [
              "property_name        0\n",
              "property_type        0\n",
              "society              1\n",
              "price                1\n",
              "price_per_sqft       1\n",
              "area                 1\n",
              "areaWithType         0\n",
              "bedRoom              0\n",
              "bathroom             0\n",
              "balcony              0\n",
              "additionalRoom       0\n",
              "address              6\n",
              "floorNum             2\n",
              "facing             874\n",
              "agePossession        1\n",
              "nearbyLocations     91\n",
              "description          0\n",
              "furnishDetails     797\n",
              "features           407\n",
              "rating             329\n",
              "dtype: int64"
            ]
          },
          "metadata": {},
          "execution_count": 16
        }
      ]
    },
    {
      "cell_type": "code",
      "source": [
        "df_flats.isnull().sum()"
      ],
      "metadata": {
        "id": "cV4NXqBJWEIH",
        "colab": {
          "base_uri": "https://localhost:8080/"
        },
        "outputId": "ac4f9a24-dd09-42b0-ade7-553544a221fb"
      },
      "execution_count": 17,
      "outputs": [
        {
          "output_type": "execute_result",
          "data": {
            "text/plain": [
              "property_name        0\n",
              "property_type        0\n",
              "society              1\n",
              "price                1\n",
              "price_per_sqft       1\n",
              "area                 1\n",
              "areaWithType         0\n",
              "bedRoom              0\n",
              "bathroom             0\n",
              "balcony              0\n",
              "additionalRoom       0\n",
              "address              6\n",
              "floorNum             2\n",
              "facing             874\n",
              "agePossession        1\n",
              "nearbyLocations     91\n",
              "description          0\n",
              "furnishDetails     797\n",
              "features           407\n",
              "rating             329\n",
              "dtype: int64"
            ]
          },
          "metadata": {},
          "execution_count": 17
        }
      ]
    },
    {
      "cell_type": "code",
      "source": [
        "df = pd.concat([df_flats,df_house],ignore_index=True)"
      ],
      "metadata": {
        "id": "UcHFNNM0XkwB"
      },
      "execution_count": 20,
      "outputs": []
    },
    {
      "cell_type": "code",
      "source": [
        "df.head(1)"
      ],
      "metadata": {
        "colab": {
          "base_uri": "https://localhost:8080/",
          "height": 187
        },
        "id": "oBy-xGe3X10L",
        "outputId": "0ccf8613-2f85-4448-87f6-69e98c1feecf"
      },
      "execution_count": 22,
      "outputs": [
        {
          "output_type": "execute_result",
          "data": {
            "text/plain": [
              "                  property_name property_type                 society  price  \\\n",
              "0  2 BHK Flat in Krishna Colony          flat  maa bhagwati residency   0.45   \n",
              "\n",
              "   price_per_sqft   area                    areaWithType  bedRoom  bathroom  \\\n",
              "0          5000.0  900.0  Carpet area: 900 (83.61 sq.m.)        2         2   \n",
              "\n",
              "  balcony additionalRoom                           address  floorNum facing  \\\n",
              "0       1  not available  Krishna Colony, Gurgaon, Haryana       4.0   West   \n",
              "\n",
              "     agePossession                                    nearbyLocations  \\\n",
              "0  1 to 5 Year Old  ['Chintapurni Mandir', 'State bank ATM', 'Pear...   \n",
              "\n",
              "                                         description  \\\n",
              "0  So with lift.Maa bhagwati residency is one of ...   \n",
              "\n",
              "                                      furnishDetails  \\\n",
              "0  ['3 Fan', '4 Light', '1 Wardrobe', 'No AC', 'N...   \n",
              "\n",
              "                                            features  \\\n",
              "0  ['Feng Shui / Vaastu Compliant', 'Security / F...   \n",
              "\n",
              "                                              rating  \n",
              "0  ['Environment4 out of 5', 'Safety4 out of 5', ...  "
            ],
            "text/html": [
              "\n",
              "  <div id=\"df-04518271-00e8-42bd-a60a-b0c658af1221\" class=\"colab-df-container\">\n",
              "    <div>\n",
              "<style scoped>\n",
              "    .dataframe tbody tr th:only-of-type {\n",
              "        vertical-align: middle;\n",
              "    }\n",
              "\n",
              "    .dataframe tbody tr th {\n",
              "        vertical-align: top;\n",
              "    }\n",
              "\n",
              "    .dataframe thead th {\n",
              "        text-align: right;\n",
              "    }\n",
              "</style>\n",
              "<table border=\"1\" class=\"dataframe\">\n",
              "  <thead>\n",
              "    <tr style=\"text-align: right;\">\n",
              "      <th></th>\n",
              "      <th>property_name</th>\n",
              "      <th>property_type</th>\n",
              "      <th>society</th>\n",
              "      <th>price</th>\n",
              "      <th>price_per_sqft</th>\n",
              "      <th>area</th>\n",
              "      <th>areaWithType</th>\n",
              "      <th>bedRoom</th>\n",
              "      <th>bathroom</th>\n",
              "      <th>balcony</th>\n",
              "      <th>additionalRoom</th>\n",
              "      <th>address</th>\n",
              "      <th>floorNum</th>\n",
              "      <th>facing</th>\n",
              "      <th>agePossession</th>\n",
              "      <th>nearbyLocations</th>\n",
              "      <th>description</th>\n",
              "      <th>furnishDetails</th>\n",
              "      <th>features</th>\n",
              "      <th>rating</th>\n",
              "    </tr>\n",
              "  </thead>\n",
              "  <tbody>\n",
              "    <tr>\n",
              "      <th>0</th>\n",
              "      <td>2 BHK Flat in Krishna Colony</td>\n",
              "      <td>flat</td>\n",
              "      <td>maa bhagwati residency</td>\n",
              "      <td>0.45</td>\n",
              "      <td>5000.0</td>\n",
              "      <td>900.0</td>\n",
              "      <td>Carpet area: 900 (83.61 sq.m.)</td>\n",
              "      <td>2</td>\n",
              "      <td>2</td>\n",
              "      <td>1</td>\n",
              "      <td>not available</td>\n",
              "      <td>Krishna Colony, Gurgaon, Haryana</td>\n",
              "      <td>4.0</td>\n",
              "      <td>West</td>\n",
              "      <td>1 to 5 Year Old</td>\n",
              "      <td>['Chintapurni Mandir', 'State bank ATM', 'Pear...</td>\n",
              "      <td>So with lift.Maa bhagwati residency is one of ...</td>\n",
              "      <td>['3 Fan', '4 Light', '1 Wardrobe', 'No AC', 'N...</td>\n",
              "      <td>['Feng Shui / Vaastu Compliant', 'Security / F...</td>\n",
              "      <td>['Environment4 out of 5', 'Safety4 out of 5', ...</td>\n",
              "    </tr>\n",
              "  </tbody>\n",
              "</table>\n",
              "</div>\n",
              "    <div class=\"colab-df-buttons\">\n",
              "\n",
              "  <div class=\"colab-df-container\">\n",
              "    <button class=\"colab-df-convert\" onclick=\"convertToInteractive('df-04518271-00e8-42bd-a60a-b0c658af1221')\"\n",
              "            title=\"Convert this dataframe to an interactive table.\"\n",
              "            style=\"display:none;\">\n",
              "\n",
              "  <svg xmlns=\"http://www.w3.org/2000/svg\" height=\"24px\" viewBox=\"0 -960 960 960\">\n",
              "    <path d=\"M120-120v-720h720v720H120Zm60-500h600v-160H180v160Zm220 220h160v-160H400v160Zm0 220h160v-160H400v160ZM180-400h160v-160H180v160Zm440 0h160v-160H620v160ZM180-180h160v-160H180v160Zm440 0h160v-160H620v160Z\"/>\n",
              "  </svg>\n",
              "    </button>\n",
              "\n",
              "  <style>\n",
              "    .colab-df-container {\n",
              "      display:flex;\n",
              "      gap: 12px;\n",
              "    }\n",
              "\n",
              "    .colab-df-convert {\n",
              "      background-color: #E8F0FE;\n",
              "      border: none;\n",
              "      border-radius: 50%;\n",
              "      cursor: pointer;\n",
              "      display: none;\n",
              "      fill: #1967D2;\n",
              "      height: 32px;\n",
              "      padding: 0 0 0 0;\n",
              "      width: 32px;\n",
              "    }\n",
              "\n",
              "    .colab-df-convert:hover {\n",
              "      background-color: #E2EBFA;\n",
              "      box-shadow: 0px 1px 2px rgba(60, 64, 67, 0.3), 0px 1px 3px 1px rgba(60, 64, 67, 0.15);\n",
              "      fill: #174EA6;\n",
              "    }\n",
              "\n",
              "    .colab-df-buttons div {\n",
              "      margin-bottom: 4px;\n",
              "    }\n",
              "\n",
              "    [theme=dark] .colab-df-convert {\n",
              "      background-color: #3B4455;\n",
              "      fill: #D2E3FC;\n",
              "    }\n",
              "\n",
              "    [theme=dark] .colab-df-convert:hover {\n",
              "      background-color: #434B5C;\n",
              "      box-shadow: 0px 1px 3px 1px rgba(0, 0, 0, 0.15);\n",
              "      filter: drop-shadow(0px 1px 2px rgba(0, 0, 0, 0.3));\n",
              "      fill: #FFFFFF;\n",
              "    }\n",
              "  </style>\n",
              "\n",
              "    <script>\n",
              "      const buttonEl =\n",
              "        document.querySelector('#df-04518271-00e8-42bd-a60a-b0c658af1221 button.colab-df-convert');\n",
              "      buttonEl.style.display =\n",
              "        google.colab.kernel.accessAllowed ? 'block' : 'none';\n",
              "\n",
              "      async function convertToInteractive(key) {\n",
              "        const element = document.querySelector('#df-04518271-00e8-42bd-a60a-b0c658af1221');\n",
              "        const dataTable =\n",
              "          await google.colab.kernel.invokeFunction('convertToInteractive',\n",
              "                                                    [key], {});\n",
              "        if (!dataTable) return;\n",
              "\n",
              "        const docLinkHtml = 'Like what you see? Visit the ' +\n",
              "          '<a target=\"_blank\" href=https://colab.research.google.com/notebooks/data_table.ipynb>data table notebook</a>'\n",
              "          + ' to learn more about interactive tables.';\n",
              "        element.innerHTML = '';\n",
              "        dataTable['output_type'] = 'display_data';\n",
              "        await google.colab.output.renderOutput(dataTable, element);\n",
              "        const docLink = document.createElement('div');\n",
              "        docLink.innerHTML = docLinkHtml;\n",
              "        element.appendChild(docLink);\n",
              "      }\n",
              "    </script>\n",
              "  </div>\n",
              "\n",
              "\n",
              "<div id=\"df-6848f45e-999f-4f88-a556-489fffbe4e46\">\n",
              "  <button class=\"colab-df-quickchart\" onclick=\"quickchart('df-6848f45e-999f-4f88-a556-489fffbe4e46')\"\n",
              "            title=\"Suggest charts.\"\n",
              "            style=\"display:none;\">\n",
              "\n",
              "<svg xmlns=\"http://www.w3.org/2000/svg\" height=\"24px\"viewBox=\"0 0 24 24\"\n",
              "     width=\"24px\">\n",
              "    <g>\n",
              "        <path d=\"M19 3H5c-1.1 0-2 .9-2 2v14c0 1.1.9 2 2 2h14c1.1 0 2-.9 2-2V5c0-1.1-.9-2-2-2zM9 17H7v-7h2v7zm4 0h-2V7h2v10zm4 0h-2v-4h2v4z\"/>\n",
              "    </g>\n",
              "</svg>\n",
              "  </button>\n",
              "\n",
              "<style>\n",
              "  .colab-df-quickchart {\n",
              "    background-color: #E8F0FE;\n",
              "    border: none;\n",
              "    border-radius: 50%;\n",
              "    cursor: pointer;\n",
              "    display: none;\n",
              "    fill: #1967D2;\n",
              "    height: 32px;\n",
              "    padding: 0 0 0 0;\n",
              "    width: 32px;\n",
              "  }\n",
              "\n",
              "  .colab-df-quickchart:hover {\n",
              "    background-color: #E2EBFA;\n",
              "    box-shadow: 0px 1px 2px rgba(60, 64, 67, 0.3), 0px 1px 3px 1px rgba(60, 64, 67, 0.15);\n",
              "    fill: #174EA6;\n",
              "  }\n",
              "\n",
              "  [theme=dark] .colab-df-quickchart {\n",
              "    background-color: #3B4455;\n",
              "    fill: #D2E3FC;\n",
              "  }\n",
              "\n",
              "  [theme=dark] .colab-df-quickchart:hover {\n",
              "    background-color: #434B5C;\n",
              "    box-shadow: 0px 1px 3px 1px rgba(0, 0, 0, 0.15);\n",
              "    filter: drop-shadow(0px 1px 2px rgba(0, 0, 0, 0.3));\n",
              "    fill: #FFFFFF;\n",
              "  }\n",
              "</style>\n",
              "\n",
              "  <script>\n",
              "    async function quickchart(key) {\n",
              "      const charts = await google.colab.kernel.invokeFunction(\n",
              "          'suggestCharts', [key], {});\n",
              "    }\n",
              "    (() => {\n",
              "      let quickchartButtonEl =\n",
              "        document.querySelector('#df-6848f45e-999f-4f88-a556-489fffbe4e46 button');\n",
              "      quickchartButtonEl.style.display =\n",
              "        google.colab.kernel.accessAllowed ? 'block' : 'none';\n",
              "    })();\n",
              "  </script>\n",
              "</div>\n",
              "    </div>\n",
              "  </div>\n"
            ]
          },
          "metadata": {},
          "execution_count": 22
        }
      ]
    },
    {
      "cell_type": "code",
      "source": [
        "df.shape"
      ],
      "metadata": {
        "colab": {
          "base_uri": "https://localhost:8080/"
        },
        "id": "3ubQbkjHX47z",
        "outputId": "3aad8396-2f4e-4766-d86a-3b5d224a6203"
      },
      "execution_count": 23,
      "outputs": [
        {
          "output_type": "execute_result",
          "data": {
            "text/plain": [
              "(3961, 20)"
            ]
          },
          "metadata": {},
          "execution_count": 23
        }
      ]
    },
    {
      "cell_type": "markdown",
      "source": [
        "#### total rows are 3961 and 20 columns"
      ],
      "metadata": {
        "id": "SNRdQ7W7YE8V"
      }
    },
    {
      "cell_type": "code",
      "source": [
        "df.shape[0]"
      ],
      "metadata": {
        "colab": {
          "base_uri": "https://localhost:8080/"
        },
        "id": "DQJmvINLYlmf",
        "outputId": "17c8af26-590b-4fd9-fac1-ea89e54ffdc9"
      },
      "execution_count": 25,
      "outputs": [
        {
          "output_type": "execute_result",
          "data": {
            "text/plain": [
              "3961"
            ]
          },
          "metadata": {},
          "execution_count": 25
        }
      ]
    },
    {
      "cell_type": "code",
      "source": [
        "df = df.sample(df.shape[0],ignore_index=True)"
      ],
      "metadata": {
        "id": "wdfauLUXX-hE"
      },
      "execution_count": 26,
      "outputs": []
    },
    {
      "cell_type": "code",
      "source": [
        "df.head(1)"
      ],
      "metadata": {
        "colab": {
          "base_uri": "https://localhost:8080/",
          "height": 205
        },
        "id": "XkEv93OjYgFw",
        "outputId": "63593389-9cfe-41cb-cec1-963298b8ae71"
      },
      "execution_count": 29,
      "outputs": [
        {
          "output_type": "execute_result",
          "data": {
            "text/plain": [
              "                      property_name property_type      society  price  \\\n",
              "0  3 BHK Flat in Sector 63A Gurgaon          flat  birla navya   3.23   \n",
              "\n",
              "   price_per_sqft    area                                       areaWithType  \\\n",
              "0         26875.0  1202.0  Super Built up area 2150(199.74 sq.m.)Carpet a...   \n",
              "\n",
              "   bedRoom  bathroom balcony additionalRoom  \\\n",
              "0        3         3       3   servant room   \n",
              "\n",
              "                                             address  floorNum facing  \\\n",
              "0  H-42, 4th Floor, Amoda, Sector 63A Gurgaon, Gu...       4.0   West   \n",
              "\n",
              "     agePossession                                    nearbyLocations  \\\n",
              "0  Within 3 months  ['Sector 54 Chowk Metro Station', 'WorldMark G...   \n",
              "\n",
              "                                         description  \\\n",
              "0  This is a premium 3 bhk+utility+terrace proper...   \n",
              "\n",
              "                                      furnishDetails  \\\n",
              "0  ['6 Fan', '8 Light', 'No AC', 'No Bed', 'No Ch...   \n",
              "\n",
              "                                            features  \\\n",
              "0  ['Feng Shui / Vaastu Compliant', 'Intercom Fac...   \n",
              "\n",
              "                                              rating  \n",
              "0  ['Environment4 out of 5', 'Lifestyle4 out of 5...  "
            ],
            "text/html": [
              "\n",
              "  <div id=\"df-9d247165-522e-410c-b9dc-5251ff02e6fe\" class=\"colab-df-container\">\n",
              "    <div>\n",
              "<style scoped>\n",
              "    .dataframe tbody tr th:only-of-type {\n",
              "        vertical-align: middle;\n",
              "    }\n",
              "\n",
              "    .dataframe tbody tr th {\n",
              "        vertical-align: top;\n",
              "    }\n",
              "\n",
              "    .dataframe thead th {\n",
              "        text-align: right;\n",
              "    }\n",
              "</style>\n",
              "<table border=\"1\" class=\"dataframe\">\n",
              "  <thead>\n",
              "    <tr style=\"text-align: right;\">\n",
              "      <th></th>\n",
              "      <th>property_name</th>\n",
              "      <th>property_type</th>\n",
              "      <th>society</th>\n",
              "      <th>price</th>\n",
              "      <th>price_per_sqft</th>\n",
              "      <th>area</th>\n",
              "      <th>areaWithType</th>\n",
              "      <th>bedRoom</th>\n",
              "      <th>bathroom</th>\n",
              "      <th>balcony</th>\n",
              "      <th>additionalRoom</th>\n",
              "      <th>address</th>\n",
              "      <th>floorNum</th>\n",
              "      <th>facing</th>\n",
              "      <th>agePossession</th>\n",
              "      <th>nearbyLocations</th>\n",
              "      <th>description</th>\n",
              "      <th>furnishDetails</th>\n",
              "      <th>features</th>\n",
              "      <th>rating</th>\n",
              "    </tr>\n",
              "  </thead>\n",
              "  <tbody>\n",
              "    <tr>\n",
              "      <th>0</th>\n",
              "      <td>3 BHK Flat in Sector 63A Gurgaon</td>\n",
              "      <td>flat</td>\n",
              "      <td>birla navya</td>\n",
              "      <td>3.23</td>\n",
              "      <td>26875.0</td>\n",
              "      <td>1202.0</td>\n",
              "      <td>Super Built up area 2150(199.74 sq.m.)Carpet a...</td>\n",
              "      <td>3</td>\n",
              "      <td>3</td>\n",
              "      <td>3</td>\n",
              "      <td>servant room</td>\n",
              "      <td>H-42, 4th Floor, Amoda, Sector 63A Gurgaon, Gu...</td>\n",
              "      <td>4.0</td>\n",
              "      <td>West</td>\n",
              "      <td>Within 3 months</td>\n",
              "      <td>['Sector 54 Chowk Metro Station', 'WorldMark G...</td>\n",
              "      <td>This is a premium 3 bhk+utility+terrace proper...</td>\n",
              "      <td>['6 Fan', '8 Light', 'No AC', 'No Bed', 'No Ch...</td>\n",
              "      <td>['Feng Shui / Vaastu Compliant', 'Intercom Fac...</td>\n",
              "      <td>['Environment4 out of 5', 'Lifestyle4 out of 5...</td>\n",
              "    </tr>\n",
              "  </tbody>\n",
              "</table>\n",
              "</div>\n",
              "    <div class=\"colab-df-buttons\">\n",
              "\n",
              "  <div class=\"colab-df-container\">\n",
              "    <button class=\"colab-df-convert\" onclick=\"convertToInteractive('df-9d247165-522e-410c-b9dc-5251ff02e6fe')\"\n",
              "            title=\"Convert this dataframe to an interactive table.\"\n",
              "            style=\"display:none;\">\n",
              "\n",
              "  <svg xmlns=\"http://www.w3.org/2000/svg\" height=\"24px\" viewBox=\"0 -960 960 960\">\n",
              "    <path d=\"M120-120v-720h720v720H120Zm60-500h600v-160H180v160Zm220 220h160v-160H400v160Zm0 220h160v-160H400v160ZM180-400h160v-160H180v160Zm440 0h160v-160H620v160ZM180-180h160v-160H180v160Zm440 0h160v-160H620v160Z\"/>\n",
              "  </svg>\n",
              "    </button>\n",
              "\n",
              "  <style>\n",
              "    .colab-df-container {\n",
              "      display:flex;\n",
              "      gap: 12px;\n",
              "    }\n",
              "\n",
              "    .colab-df-convert {\n",
              "      background-color: #E8F0FE;\n",
              "      border: none;\n",
              "      border-radius: 50%;\n",
              "      cursor: pointer;\n",
              "      display: none;\n",
              "      fill: #1967D2;\n",
              "      height: 32px;\n",
              "      padding: 0 0 0 0;\n",
              "      width: 32px;\n",
              "    }\n",
              "\n",
              "    .colab-df-convert:hover {\n",
              "      background-color: #E2EBFA;\n",
              "      box-shadow: 0px 1px 2px rgba(60, 64, 67, 0.3), 0px 1px 3px 1px rgba(60, 64, 67, 0.15);\n",
              "      fill: #174EA6;\n",
              "    }\n",
              "\n",
              "    .colab-df-buttons div {\n",
              "      margin-bottom: 4px;\n",
              "    }\n",
              "\n",
              "    [theme=dark] .colab-df-convert {\n",
              "      background-color: #3B4455;\n",
              "      fill: #D2E3FC;\n",
              "    }\n",
              "\n",
              "    [theme=dark] .colab-df-convert:hover {\n",
              "      background-color: #434B5C;\n",
              "      box-shadow: 0px 1px 3px 1px rgba(0, 0, 0, 0.15);\n",
              "      filter: drop-shadow(0px 1px 2px rgba(0, 0, 0, 0.3));\n",
              "      fill: #FFFFFF;\n",
              "    }\n",
              "  </style>\n",
              "\n",
              "    <script>\n",
              "      const buttonEl =\n",
              "        document.querySelector('#df-9d247165-522e-410c-b9dc-5251ff02e6fe button.colab-df-convert');\n",
              "      buttonEl.style.display =\n",
              "        google.colab.kernel.accessAllowed ? 'block' : 'none';\n",
              "\n",
              "      async function convertToInteractive(key) {\n",
              "        const element = document.querySelector('#df-9d247165-522e-410c-b9dc-5251ff02e6fe');\n",
              "        const dataTable =\n",
              "          await google.colab.kernel.invokeFunction('convertToInteractive',\n",
              "                                                    [key], {});\n",
              "        if (!dataTable) return;\n",
              "\n",
              "        const docLinkHtml = 'Like what you see? Visit the ' +\n",
              "          '<a target=\"_blank\" href=https://colab.research.google.com/notebooks/data_table.ipynb>data table notebook</a>'\n",
              "          + ' to learn more about interactive tables.';\n",
              "        element.innerHTML = '';\n",
              "        dataTable['output_type'] = 'display_data';\n",
              "        await google.colab.output.renderOutput(dataTable, element);\n",
              "        const docLink = document.createElement('div');\n",
              "        docLink.innerHTML = docLinkHtml;\n",
              "        element.appendChild(docLink);\n",
              "      }\n",
              "    </script>\n",
              "  </div>\n",
              "\n",
              "\n",
              "<div id=\"df-15857401-fef9-4694-9769-cfab600b7247\">\n",
              "  <button class=\"colab-df-quickchart\" onclick=\"quickchart('df-15857401-fef9-4694-9769-cfab600b7247')\"\n",
              "            title=\"Suggest charts.\"\n",
              "            style=\"display:none;\">\n",
              "\n",
              "<svg xmlns=\"http://www.w3.org/2000/svg\" height=\"24px\"viewBox=\"0 0 24 24\"\n",
              "     width=\"24px\">\n",
              "    <g>\n",
              "        <path d=\"M19 3H5c-1.1 0-2 .9-2 2v14c0 1.1.9 2 2 2h14c1.1 0 2-.9 2-2V5c0-1.1-.9-2-2-2zM9 17H7v-7h2v7zm4 0h-2V7h2v10zm4 0h-2v-4h2v4z\"/>\n",
              "    </g>\n",
              "</svg>\n",
              "  </button>\n",
              "\n",
              "<style>\n",
              "  .colab-df-quickchart {\n",
              "    background-color: #E8F0FE;\n",
              "    border: none;\n",
              "    border-radius: 50%;\n",
              "    cursor: pointer;\n",
              "    display: none;\n",
              "    fill: #1967D2;\n",
              "    height: 32px;\n",
              "    padding: 0 0 0 0;\n",
              "    width: 32px;\n",
              "  }\n",
              "\n",
              "  .colab-df-quickchart:hover {\n",
              "    background-color: #E2EBFA;\n",
              "    box-shadow: 0px 1px 2px rgba(60, 64, 67, 0.3), 0px 1px 3px 1px rgba(60, 64, 67, 0.15);\n",
              "    fill: #174EA6;\n",
              "  }\n",
              "\n",
              "  [theme=dark] .colab-df-quickchart {\n",
              "    background-color: #3B4455;\n",
              "    fill: #D2E3FC;\n",
              "  }\n",
              "\n",
              "  [theme=dark] .colab-df-quickchart:hover {\n",
              "    background-color: #434B5C;\n",
              "    box-shadow: 0px 1px 3px 1px rgba(0, 0, 0, 0.15);\n",
              "    filter: drop-shadow(0px 1px 2px rgba(0, 0, 0, 0.3));\n",
              "    fill: #FFFFFF;\n",
              "  }\n",
              "</style>\n",
              "\n",
              "  <script>\n",
              "    async function quickchart(key) {\n",
              "      const charts = await google.colab.kernel.invokeFunction(\n",
              "          'suggestCharts', [key], {});\n",
              "    }\n",
              "    (() => {\n",
              "      let quickchartButtonEl =\n",
              "        document.querySelector('#df-15857401-fef9-4694-9769-cfab600b7247 button');\n",
              "      quickchartButtonEl.style.display =\n",
              "        google.colab.kernel.accessAllowed ? 'block' : 'none';\n",
              "    })();\n",
              "  </script>\n",
              "</div>\n",
              "    </div>\n",
              "  </div>\n"
            ]
          },
          "metadata": {},
          "execution_count": 29
        }
      ]
    },
    {
      "cell_type": "code",
      "source": [
        "df.info()"
      ],
      "metadata": {
        "colab": {
          "base_uri": "https://localhost:8080/"
        },
        "id": "q6IbQQqCY6i6",
        "outputId": "81fddc6c-b084-473d-b38d-729157c6cb23"
      },
      "execution_count": 30,
      "outputs": [
        {
          "output_type": "stream",
          "name": "stdout",
          "text": [
            "<class 'pandas.core.frame.DataFrame'>\n",
            "RangeIndex: 3961 entries, 0 to 3960\n",
            "Data columns (total 20 columns):\n",
            " #   Column           Non-Null Count  Dtype  \n",
            "---  ------           --------------  -----  \n",
            " 0   property_name    3961 non-null   object \n",
            " 1   property_type    3961 non-null   object \n",
            " 2   society          3960 non-null   object \n",
            " 3   price            3941 non-null   float64\n",
            " 4   price_per_sqft   3941 non-null   float64\n",
            " 5   area             3941 non-null   float64\n",
            " 6   areaWithType     3961 non-null   object \n",
            " 7   bedRoom          3961 non-null   int64  \n",
            " 8   bathroom         3961 non-null   int64  \n",
            " 9   balcony          3961 non-null   object \n",
            " 10  additionalRoom   3961 non-null   object \n",
            " 11  address          3950 non-null   object \n",
            " 12  floorNum         3940 non-null   float64\n",
            " 13  facing           2784 non-null   object \n",
            " 14  agePossession    3960 non-null   object \n",
            " 15  nearbyLocations  3754 non-null   object \n",
            " 16  description      3961 non-null   object \n",
            " 17  furnishDetails   2929 non-null   object \n",
            " 18  features         3252 non-null   object \n",
            " 19  rating           3511 non-null   object \n",
            "dtypes: float64(4), int64(2), object(14)\n",
            "memory usage: 619.0+ KB\n"
          ]
        }
      ]
    },
    {
      "cell_type": "code",
      "source": [
        "df.to_csv('gurgaon_properties.csv',index=False)"
      ],
      "metadata": {
        "id": "JZln_cC0ZDwK"
      },
      "execution_count": 31,
      "outputs": []
    },
    {
      "cell_type": "code",
      "source": [],
      "metadata": {
        "id": "xPMUjTIsZKic"
      },
      "execution_count": null,
      "outputs": []
    }
  ]
}